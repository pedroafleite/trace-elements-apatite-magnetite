{
  "nbformat": 4,
  "nbformat_minor": 0,
  "metadata": {
    "colab": {
      "name": "apatite_dataanalysis.ipynb",
      "provenance": [],
      "collapsed_sections": [],
      "authorship_tag": "ABX9TyPoAgEWdHS1uI5n5GWdHKTY",
      "include_colab_link": true
    },
    "kernelspec": {
      "name": "python3",
      "display_name": "Python 3"
    },
    "language_info": {
      "name": "python"
    }
  },
  "cells": [
    {
      "cell_type": "markdown",
      "metadata": {
        "id": "view-in-github",
        "colab_type": "text"
      },
      "source": [
        "<a href=\"https://colab.research.google.com/github/pedroafleite/trace-elements-apatite-magnetite/blob/main/apatite_dataanalysis.ipynb\" target=\"_parent\"><img src=\"https://colab.research.google.com/assets/colab-badge.svg\" alt=\"Open In Colab\"/></a>"
      ]
    },
    {
      "cell_type": "code",
      "metadata": {
        "colab": {
          "base_uri": "https://localhost:8080/"
        },
        "id": "kxhAhX36SHLj",
        "outputId": "b44fa637-a5a1-4ca4-f771-30bdd2a8395e"
      },
      "source": [
        "import pandas as pd\n",
        "import matplotlib.pyplot as plt\n",
        "%matplotlib inline\n",
        "\n",
        "from google.colab import drive\n",
        "drive.mount('/content/drive')"
      ],
      "execution_count": 2,
      "outputs": [
        {
          "output_type": "stream",
          "text": [
            "Mounted at /content/drive\n"
          ],
          "name": "stdout"
        }
      ]
    },
    {
      "cell_type": "markdown",
      "metadata": {
        "id": "j-BE3t1xnEpu"
      },
      "source": [
        "# Apatite"
      ]
    },
    {
      "cell_type": "code",
      "metadata": {
        "colab": {
          "base_uri": "https://localhost:8080/",
          "height": 326
        },
        "id": "GgSZk7gaSRTM",
        "outputId": "d6d35716-abd6-4921-ed63-bb02b9ad8a34"
      },
      "source": [
        "apatite = pd.read_csv('/content/drive/MyDrive/Colab Notebooks/geochemistry/apatite_empa.csv', sep=';')\n",
        "apatite = apatite.drop(columns=['Unnamed: 57'])\n",
        "apatite.head()"
      ],
      "execution_count": 4,
      "outputs": [
        {
          "output_type": "execute_result",
          "data": {
            "text/html": [
              "<div>\n",
              "<style scoped>\n",
              "    .dataframe tbody tr th:only-of-type {\n",
              "        vertical-align: middle;\n",
              "    }\n",
              "\n",
              "    .dataframe tbody tr th {\n",
              "        vertical-align: top;\n",
              "    }\n",
              "\n",
              "    .dataframe thead th {\n",
              "        text-align: right;\n",
              "    }\n",
              "</style>\n",
              "<table border=\"1\" class=\"dataframe\">\n",
              "  <thead>\n",
              "    <tr style=\"text-align: right;\">\n",
              "      <th></th>\n",
              "      <th>Sample_ID</th>\n",
              "      <th>Sample</th>\n",
              "      <th>Deposit</th>\n",
              "      <th>Nature</th>\n",
              "      <th>Zone</th>\n",
              "      <th>Class</th>\n",
              "      <th>CL</th>\n",
              "      <th>F_pct</th>\n",
              "      <th>Si_pct</th>\n",
              "      <th>Mg_pct</th>\n",
              "      <th>Na_pct</th>\n",
              "      <th>Ca_pct</th>\n",
              "      <th>P_pct</th>\n",
              "      <th>Cl_pct</th>\n",
              "      <th>Fe_pct</th>\n",
              "      <th>Mn_pct</th>\n",
              "      <th>Ce_pct</th>\n",
              "      <th>La_pct</th>\n",
              "      <th>Nd_pct</th>\n",
              "      <th>B_ppm</th>\n",
              "      <th>Mg_ppm</th>\n",
              "      <th>Si_ppm</th>\n",
              "      <th>P_ppm</th>\n",
              "      <th>Ca_ppm</th>\n",
              "      <th>Sc_ppm</th>\n",
              "      <th>Ti_ppm</th>\n",
              "      <th>V_ppm</th>\n",
              "      <th>Mn_ppm</th>\n",
              "      <th>Fe_ppm</th>\n",
              "      <th>Ga_ppm</th>\n",
              "      <th>Ge_ppm</th>\n",
              "      <th>As_ppm</th>\n",
              "      <th>Rb_ppm</th>\n",
              "      <th>Sr_ppm</th>\n",
              "      <th>Y_ppm</th>\n",
              "      <th>Zr_ppm</th>\n",
              "      <th>Nb_ppm</th>\n",
              "      <th>Ba_ppm</th>\n",
              "      <th>La_ppm</th>\n",
              "      <th>Ce_ppm</th>\n",
              "      <th>Pr_ppm</th>\n",
              "      <th>Nd_ppm</th>\n",
              "      <th>Sm_ppm</th>\n",
              "      <th>Eu_ppm</th>\n",
              "      <th>Gd_ppm</th>\n",
              "      <th>Tb_ppm</th>\n",
              "      <th>Dy_ppm</th>\n",
              "      <th>Ho_ppm</th>\n",
              "      <th>Er_ppm</th>\n",
              "      <th>Tm_ppm</th>\n",
              "      <th>Yb_ppm</th>\n",
              "      <th>Lu_ppm</th>\n",
              "      <th>Hf_ppm</th>\n",
              "      <th>Ta_ppm</th>\n",
              "      <th>Pb_ppm</th>\n",
              "      <th>Th232_ppm</th>\n",
              "      <th>U238_ppm</th>\n",
              "      <th>Unnamed: 57</th>\n",
              "      <th>U238_ppm.1</th>\n",
              "    </tr>\n",
              "  </thead>\n",
              "  <tbody>\n",
              "    <tr>\n",
              "      <th>0</th>\n",
              "      <td>B6_ap_1_1</td>\n",
              "      <td>B6</td>\n",
              "      <td>X1 deposit</td>\n",
              "      <td>Hydrothermal</td>\n",
              "      <td>Hydrothermal</td>\n",
              "      <td>X1 deposit</td>\n",
              "      <td>CL-green</td>\n",
              "      <td>3.5127</td>\n",
              "      <td>0.082784</td>\n",
              "      <td>0.023280</td>\n",
              "      <td>0.267737</td>\n",
              "      <td>37.759245</td>\n",
              "      <td>17.562195</td>\n",
              "      <td>0.1024</td>\n",
              "      <td>0.248972</td>\n",
              "      <td>0.836417</td>\n",
              "      <td>0.189764</td>\n",
              "      <td>0.056192</td>\n",
              "      <td>0.077161</td>\n",
              "      <td>NaN</td>\n",
              "      <td>NaN</td>\n",
              "      <td>NaN</td>\n",
              "      <td>NaN</td>\n",
              "      <td>NaN</td>\n",
              "      <td>NaN</td>\n",
              "      <td>NaN</td>\n",
              "      <td>NaN</td>\n",
              "      <td>NaN</td>\n",
              "      <td>NaN</td>\n",
              "      <td>NaN</td>\n",
              "      <td>NaN</td>\n",
              "      <td>NaN</td>\n",
              "      <td>NaN</td>\n",
              "      <td>NaN</td>\n",
              "      <td>NaN</td>\n",
              "      <td>NaN</td>\n",
              "      <td>NaN</td>\n",
              "      <td>NaN</td>\n",
              "      <td>NaN</td>\n",
              "      <td>NaN</td>\n",
              "      <td>NaN</td>\n",
              "      <td>NaN</td>\n",
              "      <td>NaN</td>\n",
              "      <td>NaN</td>\n",
              "      <td>NaN</td>\n",
              "      <td>NaN</td>\n",
              "      <td>NaN</td>\n",
              "      <td>NaN</td>\n",
              "      <td>NaN</td>\n",
              "      <td>NaN</td>\n",
              "      <td>NaN</td>\n",
              "      <td>NaN</td>\n",
              "      <td>NaN</td>\n",
              "      <td>NaN</td>\n",
              "      <td>NaN</td>\n",
              "      <td>NaN</td>\n",
              "      <td>NaN</td>\n",
              "      <td>NaN</td>\n",
              "      <td>NaN</td>\n",
              "    </tr>\n",
              "    <tr>\n",
              "      <th>1</th>\n",
              "      <td>B6_ap_1_2</td>\n",
              "      <td>B6</td>\n",
              "      <td>X1 deposit</td>\n",
              "      <td>Hydrothermal</td>\n",
              "      <td>Hydrothermal</td>\n",
              "      <td>X1 deposit</td>\n",
              "      <td>CL-green</td>\n",
              "      <td>4.0384</td>\n",
              "      <td>0.112513</td>\n",
              "      <td>0.041493</td>\n",
              "      <td>0.198002</td>\n",
              "      <td>37.675768</td>\n",
              "      <td>17.821429</td>\n",
              "      <td>0.1002</td>\n",
              "      <td>0.187798</td>\n",
              "      <td>1.018492</td>\n",
              "      <td>0.236249</td>\n",
              "      <td>0.062416</td>\n",
              "      <td>0.109484</td>\n",
              "      <td>NaN</td>\n",
              "      <td>NaN</td>\n",
              "      <td>NaN</td>\n",
              "      <td>NaN</td>\n",
              "      <td>NaN</td>\n",
              "      <td>NaN</td>\n",
              "      <td>NaN</td>\n",
              "      <td>NaN</td>\n",
              "      <td>NaN</td>\n",
              "      <td>NaN</td>\n",
              "      <td>NaN</td>\n",
              "      <td>NaN</td>\n",
              "      <td>NaN</td>\n",
              "      <td>NaN</td>\n",
              "      <td>NaN</td>\n",
              "      <td>NaN</td>\n",
              "      <td>NaN</td>\n",
              "      <td>NaN</td>\n",
              "      <td>NaN</td>\n",
              "      <td>NaN</td>\n",
              "      <td>NaN</td>\n",
              "      <td>NaN</td>\n",
              "      <td>NaN</td>\n",
              "      <td>NaN</td>\n",
              "      <td>NaN</td>\n",
              "      <td>NaN</td>\n",
              "      <td>NaN</td>\n",
              "      <td>NaN</td>\n",
              "      <td>NaN</td>\n",
              "      <td>NaN</td>\n",
              "      <td>NaN</td>\n",
              "      <td>NaN</td>\n",
              "      <td>NaN</td>\n",
              "      <td>NaN</td>\n",
              "      <td>NaN</td>\n",
              "      <td>NaN</td>\n",
              "      <td>NaN</td>\n",
              "      <td>NaN</td>\n",
              "      <td>NaN</td>\n",
              "      <td>NaN</td>\n",
              "    </tr>\n",
              "    <tr>\n",
              "      <th>2</th>\n",
              "      <td>B6_ap_2_1</td>\n",
              "      <td>B6</td>\n",
              "      <td>X1 deposit</td>\n",
              "      <td>Hydrothermal</td>\n",
              "      <td>Hydrothermal</td>\n",
              "      <td>X1 deposit</td>\n",
              "      <td>CL-green</td>\n",
              "      <td>3.6377</td>\n",
              "      <td>0.031225</td>\n",
              "      <td>0.033170</td>\n",
              "      <td>0.245185</td>\n",
              "      <td>37.567133</td>\n",
              "      <td>17.492281</td>\n",
              "      <td>0.1520</td>\n",
              "      <td>0.291414</td>\n",
              "      <td>1.093305</td>\n",
              "      <td>0.155247</td>\n",
              "      <td>0.047153</td>\n",
              "      <td>0.114713</td>\n",
              "      <td>3.050</td>\n",
              "      <td>389.43</td>\n",
              "      <td>2760.730</td>\n",
              "      <td>157416.05</td>\n",
              "      <td>375620.75</td>\n",
              "      <td>3.84</td>\n",
              "      <td>811.01</td>\n",
              "      <td>5.31</td>\n",
              "      <td>11560.24</td>\n",
              "      <td>2344.03</td>\n",
              "      <td>0.165</td>\n",
              "      <td>83.56</td>\n",
              "      <td>10.02</td>\n",
              "      <td>0.73</td>\n",
              "      <td>337.41</td>\n",
              "      <td>4575.82</td>\n",
              "      <td>1.78</td>\n",
              "      <td>0.0885</td>\n",
              "      <td>1.650</td>\n",
              "      <td>584.79</td>\n",
              "      <td>1764.89</td>\n",
              "      <td>280.54</td>\n",
              "      <td>1447.90</td>\n",
              "      <td>520.88</td>\n",
              "      <td>30.88</td>\n",
              "      <td>617.64</td>\n",
              "      <td>120.87</td>\n",
              "      <td>822.52</td>\n",
              "      <td>175.38</td>\n",
              "      <td>496.77</td>\n",
              "      <td>74.46</td>\n",
              "      <td>565.48</td>\n",
              "      <td>72.04</td>\n",
              "      <td>3.64</td>\n",
              "      <td>0.145</td>\n",
              "      <td>9.62</td>\n",
              "      <td>27.59</td>\n",
              "      <td>24.30</td>\n",
              "      <td>NaN</td>\n",
              "      <td>34.39</td>\n",
              "    </tr>\n",
              "    <tr>\n",
              "      <th>3</th>\n",
              "      <td>B6_ap_3_1</td>\n",
              "      <td>B6</td>\n",
              "      <td>X1 deposit</td>\n",
              "      <td>Hydrothermal</td>\n",
              "      <td>Hydrothermal</td>\n",
              "      <td>X1 deposit</td>\n",
              "      <td>CL-green</td>\n",
              "      <td>3.8450</td>\n",
              "      <td>0.077782</td>\n",
              "      <td>0.044509</td>\n",
              "      <td>0.244369</td>\n",
              "      <td>37.254238</td>\n",
              "      <td>17.879647</td>\n",
              "      <td>0.1912</td>\n",
              "      <td>0.314888</td>\n",
              "      <td>1.170364</td>\n",
              "      <td>0.159480</td>\n",
              "      <td>0.074610</td>\n",
              "      <td>0.114028</td>\n",
              "      <td>1.995</td>\n",
              "      <td>667.72</td>\n",
              "      <td>2535.865</td>\n",
              "      <td>160435.22</td>\n",
              "      <td>372542.91</td>\n",
              "      <td>2.85</td>\n",
              "      <td>778.63</td>\n",
              "      <td>4.43</td>\n",
              "      <td>11781.36</td>\n",
              "      <td>2996.92</td>\n",
              "      <td>0.470</td>\n",
              "      <td>92.60</td>\n",
              "      <td>11.65</td>\n",
              "      <td>0.22</td>\n",
              "      <td>341.56</td>\n",
              "      <td>4114.00</td>\n",
              "      <td>0.78</td>\n",
              "      <td>1.5200</td>\n",
              "      <td>7.070</td>\n",
              "      <td>629.90</td>\n",
              "      <td>1738.15</td>\n",
              "      <td>279.93</td>\n",
              "      <td>1474.68</td>\n",
              "      <td>500.44</td>\n",
              "      <td>25.22</td>\n",
              "      <td>569.32</td>\n",
              "      <td>104.57</td>\n",
              "      <td>688.16</td>\n",
              "      <td>140.09</td>\n",
              "      <td>369.85</td>\n",
              "      <td>54.65</td>\n",
              "      <td>414.16</td>\n",
              "      <td>55.09</td>\n",
              "      <td>1.98</td>\n",
              "      <td>0.120</td>\n",
              "      <td>5.76</td>\n",
              "      <td>14.95</td>\n",
              "      <td>27.14</td>\n",
              "      <td>NaN</td>\n",
              "      <td>44.80</td>\n",
              "    </tr>\n",
              "    <tr>\n",
              "      <th>4</th>\n",
              "      <td>B6_ap_3_2</td>\n",
              "      <td>B6</td>\n",
              "      <td>X1 deposit</td>\n",
              "      <td>Hydrothermal</td>\n",
              "      <td>Hydrothermal</td>\n",
              "      <td>X1 deposit</td>\n",
              "      <td>CL-green</td>\n",
              "      <td>3.6880</td>\n",
              "      <td>0.134062</td>\n",
              "      <td>0.044328</td>\n",
              "      <td>0.173150</td>\n",
              "      <td>37.534972</td>\n",
              "      <td>17.564989</td>\n",
              "      <td>0.1733</td>\n",
              "      <td>0.258922</td>\n",
              "      <td>1.030961</td>\n",
              "      <td>0.157445</td>\n",
              "      <td>0.039905</td>\n",
              "      <td>0.116771</td>\n",
              "      <td>5.000</td>\n",
              "      <td>392.63</td>\n",
              "      <td>2408.720</td>\n",
              "      <td>140917.86</td>\n",
              "      <td>375350.25</td>\n",
              "      <td>2.77</td>\n",
              "      <td>784.73</td>\n",
              "      <td>8.59</td>\n",
              "      <td>11678.81</td>\n",
              "      <td>2267.10</td>\n",
              "      <td>0.150</td>\n",
              "      <td>97.25</td>\n",
              "      <td>9.23</td>\n",
              "      <td>0.52</td>\n",
              "      <td>331.81</td>\n",
              "      <td>4127.08</td>\n",
              "      <td>0.62</td>\n",
              "      <td>0.0695</td>\n",
              "      <td>1.245</td>\n",
              "      <td>643.51</td>\n",
              "      <td>1943.36</td>\n",
              "      <td>306.56</td>\n",
              "      <td>1553.59</td>\n",
              "      <td>560.69</td>\n",
              "      <td>30.88</td>\n",
              "      <td>595.10</td>\n",
              "      <td>115.74</td>\n",
              "      <td>734.29</td>\n",
              "      <td>149.09</td>\n",
              "      <td>403.60</td>\n",
              "      <td>58.86</td>\n",
              "      <td>433.23</td>\n",
              "      <td>57.49</td>\n",
              "      <td>1.93</td>\n",
              "      <td>0.340</td>\n",
              "      <td>6.29</td>\n",
              "      <td>16.34</td>\n",
              "      <td>9.69</td>\n",
              "      <td>NaN</td>\n",
              "      <td>17.98</td>\n",
              "    </tr>\n",
              "  </tbody>\n",
              "</table>\n",
              "</div>"
            ],
            "text/plain": [
              "   Sample_ID Sample     Deposit  ... U238_ppm Unnamed: 57 U238_ppm.1\n",
              "0  B6_ap_1_1     B6  X1 deposit  ...      NaN         NaN        NaN\n",
              "1  B6_ap_1_2     B6  X1 deposit  ...      NaN         NaN        NaN\n",
              "2  B6_ap_2_1     B6  X1 deposit  ...    24.30         NaN      34.39\n",
              "3  B6_ap_3_1     B6  X1 deposit  ...    27.14         NaN      44.80\n",
              "4  B6_ap_3_2     B6  X1 deposit  ...     9.69         NaN      17.98\n",
              "\n",
              "[5 rows x 59 columns]"
            ]
          },
          "metadata": {
            "tags": []
          },
          "execution_count": 4
        }
      ]
    },
    {
      "cell_type": "code",
      "metadata": {
        "id": "dZMILSITnjnU"
      },
      "source": [
        "ap_mao = pd.read_excel('/content/drive/MyDrive/Colab Notebooks/geochemistry/supplement_1478744_appendixtable3.xlsx', header=3, index_col=0)\n",
        "ap_mao.head(2)"
      ],
      "execution_count": 17,
      "outputs": []
    },
    {
      "cell_type": "code",
      "metadata": {
        "colab": {
          "base_uri": "https://localhost:8080/"
        },
        "id": "hRjU9xkw0vRc",
        "outputId": "ae47f1a3-cb1d-47fd-e9d7-b5f4cec9eb17"
      },
      "source": [
        "ap_mao.Class_1.unique()"
      ],
      "execution_count": 24,
      "outputs": [
        {
          "output_type": "execute_result",
          "data": {
            "text/plain": [
              "array(['Mineralized', 'Unmineralized', 'Carbonatite', 'carbonatite',\n",
              "       'Unknown'], dtype=object)"
            ]
          },
          "metadata": {
            "tags": []
          },
          "execution_count": 24
        }
      ]
    },
    {
      "cell_type": "code",
      "metadata": {
        "colab": {
          "base_uri": "https://localhost:8080/"
        },
        "id": "cr1QCVqJ1rEz",
        "outputId": "9e97ba88-deaf-49b8-dc69-fb63c34bb2db"
      },
      "source": [
        "ap_mao.Class_2.unique()"
      ],
      "execution_count": 25,
      "outputs": [
        {
          "output_type": "execute_result",
          "data": {
            "text/plain": [
              "array(['Porphyry and related Cu-Au breccia', 'Orogenic Au',\n",
              "       'Unmineralized', 'Skarn', 'Kiruna-type', 'IOCG', 'Carbonatite',\n",
              "       'MOR', 'Orogenic Ni-Cu', 'Epithemal Au-Ag', 'Unknown'],\n",
              "      dtype=object)"
            ]
          },
          "metadata": {
            "tags": []
          },
          "execution_count": 25
        }
      ]
    },
    {
      "cell_type": "code",
      "metadata": {
        "colab": {
          "base_uri": "https://localhost:8080/"
        },
        "id": "vi6V7RhJ1vUO",
        "outputId": "abeff653-5f77-4c6e-ec32-390c5cf7ca51"
      },
      "source": [
        "ap_mao.Classification.unique()"
      ],
      "execution_count": 26,
      "outputs": [
        {
          "output_type": "execute_result",
          "data": {
            "text/plain": [
              "array(['Alkalic porphyry Cu-Au', 'Porphyry Mo', 'Porphyry Cu-Mo',\n",
              "       'Porphyry Cu-Au', 'Porphyry-related Cu-Au breccia', 'Orogenic Au',\n",
              "       'Unmineralized', 'W skarn', 'Cu skarn', 'Pb-Zn skarn',\n",
              "       'Au-Co skarn', 'Kiruna-type', 'IOCG', 'Carbonatite', 'MOR',\n",
              "       'Orogenic Ni-Cu', 'Epithemal Au-Ag', 'Unknown'], dtype=object)"
            ]
          },
          "metadata": {
            "tags": []
          },
          "execution_count": 26
        }
      ]
    },
    {
      "cell_type": "code",
      "metadata": {
        "id": "nSVE3pAKZufX"
      },
      "source": [
        "ap_elements = ap_mao[['B_ppm',\t'F_EPMA_pct', 'Na_EPMA_pct',\t'Na_LAICP_pct',\t'Mg_pct',\t\n",
        "                      'Al_pct',\t'Si_EPMA_pct',\t'P_EPMA_pct',\t'S_EPMA_pct',\t'Cl_EPMA_pct',\t\n",
        "                      'K_ppm',\t'Ca_EPMA_pct',\t'V_ppm',\t'Mn_ppm',\t'Fe_EPMA_pct',\t\n",
        "                      'Fe_LAICP_pct',\t'Co_ppm',\t'Cu_ppm',\t'Zn_ppm',\t'Ga_ppm',\t\n",
        "                      'Ge_ppm',\t'As_ppm',\t'Se_ppm',\t'Rb_ppm',\t'Sr_ppm',\t'Y_ppm',\t\n",
        "                      'Zr_ppm',\t'Nb_ppm',\t'Mo_ppm',\t'Ag_ppm',\t'Ba_ppm',\t'La_ppm',\t\n",
        "                      'Ce_ppm',\t'Pr_ppm',\t'Nd_ppm',\t'Sm_ppm',\t'Eu_ppm',\t'Gd_ppm',\t\n",
        "                      'Tb_ppm',\t'Dy_ppm',\t'Ho_ppm',\t'Er_ppm',\t'Tm_ppm',\t'Yb_ppm',\t\n",
        "                      'Lu_ppm',\t'Hf_ppm',\t'Ta_ppm',\t'W_ppm',\t'Pb_ppm', 'Th_ppm',\t'U_ppm']]"
      ],
      "execution_count": 34,
      "outputs": []
    },
    {
      "cell_type": "code",
      "metadata": {
        "colab": {
          "base_uri": "https://localhost:8080/"
        },
        "id": "Lm6INq0N3LP5",
        "outputId": "598c32e8-3aed-47d2-fed4-494abbc29e89"
      },
      "source": [
        "ap_elements.shape"
      ],
      "execution_count": 37,
      "outputs": [
        {
          "output_type": "execute_result",
          "data": {
            "text/plain": [
              "(1369, 51)"
            ]
          },
          "metadata": {
            "tags": []
          },
          "execution_count": 37
        }
      ]
    },
    {
      "cell_type": "code",
      "metadata": {
        "colab": {
          "base_uri": "https://localhost:8080/"
        },
        "id": "h3mA7V_22w13",
        "outputId": "560251c0-f8f1-4033-bb1b-2c6014e35bc2"
      },
      "source": [
        "ap_elements.isna().sum()"
      ],
      "execution_count": 36,
      "outputs": [
        {
          "output_type": "execute_result",
          "data": {
            "text/plain": [
              "B_ppm           1304\n",
              "F_EPMA_pct       563\n",
              "Na_EPMA_pct      601\n",
              "Na_LAICP_pct    1054\n",
              "Mg_pct           271\n",
              "Al_pct          1242\n",
              "Si_EPMA_pct      596\n",
              "P_EPMA_pct       563\n",
              "S_EPMA_pct       703\n",
              "Cl_EPMA_pct      655\n",
              "K_ppm           1256\n",
              "Ca_EPMA_pct      563\n",
              "V_ppm            162\n",
              "Mn_ppm             3\n",
              "Fe_EPMA_pct      765\n",
              "Fe_LAICP_pct    1209\n",
              "Co_ppm          1259\n",
              "Cu_ppm           862\n",
              "Zn_ppm           926\n",
              "Ga_ppm          1244\n",
              "Ge_ppm          1244\n",
              "As_ppm           395\n",
              "Se_ppm          1347\n",
              "Rb_ppm            73\n",
              "Sr_ppm             2\n",
              "Y_ppm              2\n",
              "Zr_ppm           383\n",
              "Nb_ppm           667\n",
              "Mo_ppm           503\n",
              "Ag_ppm          1291\n",
              "Ba_ppm           841\n",
              "La_ppm             2\n",
              "Ce_ppm             4\n",
              "Pr_ppm             2\n",
              "Nd_ppm           221\n",
              "Sm_ppm             2\n",
              "Eu_ppm             2\n",
              "Gd_ppm             2\n",
              "Tb_ppm          1196\n",
              "Dy_ppm             2\n",
              "Ho_ppm          1196\n",
              "Er_ppm          1196\n",
              "Tm_ppm          1196\n",
              "Yb_ppm            19\n",
              "Lu_ppm           295\n",
              "Hf_ppm          1262\n",
              "Ta_ppm          1280\n",
              "W_ppm           1095\n",
              "Pb_ppm           242\n",
              "Th_ppm            34\n",
              "U_ppm             24\n",
              "dtype: int64"
            ]
          },
          "metadata": {
            "tags": []
          },
          "execution_count": 36
        }
      ]
    },
    {
      "cell_type": "markdown",
      "metadata": {
        "id": "HZXtdjjL0lrP"
      },
      "source": [
        ""
      ]
    }
  ]
}